{
 "cells": [
  {
   "attachments": {},
   "cell_type": "markdown",
   "metadata": {},
   "source": [
    "Grafi, ki se navezujejo na vprašanje, koliko časa ima voznik vozniško dovoljenje (obdobje 0-1, 1-2…).\n",
    "* Realno število prometnih nesreč po številu let izpita povzročitelja\n",
    "\n",
    "![stv_leta_izpita.png](grafi/stv_leta_izpita.png)\n",
    "\n"
   ]
  },
  {
   "attachments": {},
   "cell_type": "markdown",
   "metadata": {},
   "source": [
    "Hoteli smo raziskati kakšna so razmerja nesreč med spoloma\n",
    "\n",
    "![delez_nesrec_spol.png](grafi\\delez_nesrec_spol.png)\n",
    "![delez_nesrec_spol2.png](grafi\\delez_nesrec_spol2.png)\n",
    "\n",
    "\n",
    "Graf lahko beremo identično kot graf o varnostnem pasu\n",
    "Grafi, ki se navezujejo na zgornje vprašanje:\n",
    "* Delež moških in ženskih udeležencev\n",
    "\n",
    "![delez_moski_zenske.png](grafi\\delez_moski_zenske.png)\n"
   ]
  },
  {
   "attachments": {},
   "cell_type": "markdown",
   "metadata": {},
   "source": [
    "Zanimala nas je smrtnost čez leta, zato smo za vsako leto prešteli smrti prometnih nesreč.\n",
    "\n",
    "![smrti.png](grafi/smrti.png)\n",
    "\n",
    "Graf prikazuje trend smrtnosti. Iz njega lahko razberemo, da se smrtnost čez leta postopoma zmanjšuje, od leta 2009 do 2022 se je število smrti zmanjšalo za polovico."
   ]
  },
  {
   "attachments": {},
   "cell_type": "markdown",
   "metadata": {},
   "source": [
    "Vizualizacijo nesreč na cestah smo hoteli potrditi z naslednjo raziskavo. Ko pogledamo vizualizacijo Slovenije in  graf, lahko potrdimo, da je več nesreč na bolj obremenjenih cestah (glavna cesta, avtocesta…). Sklepali smo da na to vplivajo tudi hitrostne omejitve na cestah.\n",
    "\n",
    "![delez_nesrec_ceste.png](grafi/delez_nesrec_ceste.png)"
   ]
  }
 ],
 "metadata": {
  "language_info": {
   "name": "python"
  },
  "orig_nbformat": 4
 },
 "nbformat": 4,
 "nbformat_minor": 2
}
